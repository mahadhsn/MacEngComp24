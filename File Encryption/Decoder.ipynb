{
  "nbformat": 4,
  "nbformat_minor": 0,
  "metadata": {
    "colab": {
      "provenance": []
    },
    "kernelspec": {
      "name": "python3",
      "display_name": "Python 3"
    },
    "language_info": {
      "name": "python"
    }
  },
  "cells": [
    {
      "cell_type": "code",
      "execution_count": 13,
      "metadata": {
        "colab": {
          "base_uri": "https://localhost:8080/"
        },
        "id": "q4Nw4CI-HBl8",
        "outputId": "d6c279a5-177a-4830-d51d-7c975da57089"
      },
      "outputs": [
        {
          "output_type": "stream",
          "name": "stdout",
          "text": [
            "Requirement already satisfied: python-docx in /usr/local/lib/python3.10/dist-packages (1.1.2)\n",
            "Requirement already satisfied: lxml>=3.1.0 in /usr/local/lib/python3.10/dist-packages (from python-docx) (5.3.0)\n",
            "Requirement already satisfied: typing-extensions>=4.9.0 in /usr/local/lib/python3.10/dist-packages (from python-docx) (4.12.2)\n",
            "Decrypted Message: b'My secret code was hello world!! ;)\\n'\n"
          ]
        }
      ],
      "source": [
        "!pip install python-docx #to make sure whop ever is using it does not need to download python-docx\n",
        "from cryptography.fernet import Fernet\n",
        "from docx import Document\n",
        "\n",
        "key_doc = Document(\"KEY.docx\")\n",
        "key_info = \"\"\n",
        "\n",
        "#Extract the text from the document, assuming the key is stored in the first paragraph\n",
        "for para in key_doc.paragraphs:\n",
        "    key_info += para.text.strip()\n",
        "\n",
        "#Encode the extracted key text into bytes\n",
        "key_info_bytes = key_info.encode('utf-8')\n",
        "\n",
        "#Ensure that the key is in the correct format (Fernet key)\n",
        "key = key_info_bytes\n",
        "cipher_suite = Fernet(key)\n",
        "#Print the key (you need to keep this secret!)\n",
        "#Open the .docx file and extract the text\n",
        "doc = Document(\"SECRET MESSAGE.docx\")\n",
        "extracted_text = \"\"\n",
        "for para in doc.paragraphs:\n",
        "    extracted_text += para.text # Collect all paragraphs as a string\n",
        "\n",
        "#Encrypt the extracted text (for demo purposes, encryption is done\n",
        "\n",
        "#Now, decrypt the content\n",
        "decrypted_message = cipher_suite.decrypt(extracted_text)\n",
        "\n",
        "#Print the decrypted message\n",
        "print(\"Decrypted Message:\", decrypted_message)\n",
        "\n",
        "#Create a new Document with the decrypted text\n",
        "doc_decrypted = Document()\n",
        "doc_decrypted.add_paragraph(decrypted_message.decode('utf-8'))\n",
        "\n",
        "#Save the decrypted content to a new .docx file\n",
        "doc_decrypted.save(\"decrypted.docx\")"
      ]
    }
  ]
}